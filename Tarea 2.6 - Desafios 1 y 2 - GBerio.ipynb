{
 "cells": [
  {
   "cell_type": "markdown",
   "id": "b409134d",
   "metadata": {},
   "source": [
    "### Desafío 1: Calificaciones aprobadas\n",
    "\n",
    "**¿Qué pide el enunciado?**\n",
    "\n",
    "Contar cuántos estudiantes aprobaron y cuántos no. Se considera aprobada una nota mayor o igual a 7.\n",
    "\n",
    "**¿Qué estructuras de control y operadores usaste?**\n",
    "\n",
    "- Estructura `for` para recorrer la lista de calificaciones.\n",
    "- Condicional `if...else` para clasificar cada nota como aprobada o no.\n",
    "- Operador relacional `>=` para comparar notas con el valor 7.\n",
    "\n",
    "**¿Qué dificultades encontraste y cómo las resolviste?**\n",
    "\n",
    "Inicialmente, dudé si debía incluir exactamente el 7 como aprobado. Revisando el enunciado, se indica que 7 es la nota mínima de aprobación, por lo que resolví esa duda aplicando `>= 7`. También validé que los contadores se inicialicen correctamente antes del bucle.\n"
   ]
  },
  {
   "cell_type": "code",
   "execution_count": null,
   "id": "b3bc391c",
   "metadata": {},
   "outputs": [],
   "source": [
    "# Lista de calificaciones de ejemplo\n",
    "calificaciones = [8, 5, 9, 6, 7, 10, 4, 6, 7, 3]\n",
    "\n",
    "# Inicializamos contadores\n",
    "aprobados = 0\n",
    "reprobados = 0\n",
    "\n",
    "# Recorremos la lista de calificaciones\n",
    "for nota in calificaciones:\n",
    "    if nota >= 7:\n",
    "        aprobados += 1\n",
    "    else:\n",
    "        reprobados += 1\n",
    "\n",
    "# Mostramos los resultados\n",
    "print(\"Cantidad de estudiantes aprobados:\", aprobados)\n",
    "print(\"Cantidad de estudiantes reprobados:\", reprobados)\n"
   ]
  },
  {
   "cell_type": "markdown",
   "id": "60cad98d",
   "metadata": {},
   "source": [
    "### Desafío 2: Clasificación de calificaciones\n",
    "\n",
    "**¿Qué pide el enunciado?**\n",
    "\n",
    "Clasificar cada calificación en categorías:\n",
    "- Excelente (9 o más)\n",
    "- Bueno (7 u 8)\n",
    "- Regular (6)\n",
    "- Insuficiente (menos de 6)\n",
    "\n",
    "**¿Qué estructuras de control y operadores usaste?**\n",
    "\n",
    "- Bucle `for` para recorrer cada nota.\n",
    "- Condicionales `if`, `elif` y `else` para clasificar.\n",
    "- Operadores relacionales `>=`, `<` para comparar valores.\n",
    "\n",
    "**¿Qué dificultades encontraste y cómo las resolviste?**\n",
    "\n",
    "La dificultad principal fue organizar bien el orden de los `elif` para que ninguna condición se solape incorrectamente. Para solucionarlo, usé primero los valores más altos en las condiciones (`if nota >= 9`, etc.) para que las comparaciones sean más claras.\n"
   ]
  },
  {
   "cell_type": "code",
   "execution_count": null,
   "id": "9a02db7f",
   "metadata": {},
   "outputs": [],
   "source": [
    "# Lista de calificaciones\n",
    "calificaciones = [8, 5, 9, 6, 7, 10, 4, 6, 7, 3]\n",
    "\n",
    "# Recorremos y clasificamos cada calificación\n",
    "for nota in calificaciones:\n",
    "    if nota >= 9:\n",
    "        categoria = \"Excelente\"\n",
    "    elif nota >= 7:\n",
    "        categoria = \"Bueno\"\n",
    "    elif nota == 6:\n",
    "        categoria = \"Regular\"\n",
    "    else:\n",
    "        categoria = \"Insuficiente\"\n",
    "\n",
    "    print(f\"Nota: {nota} → {categoria}\")\n"
   ]
  },
  {
   "cell_type": "markdown",
   "id": "887ddf4a",
   "metadata": {},
   "source": [
    "### Desafío 3: Mejora del cálculo\n",
    "\n",
    "**¿Qué pide el enunciado?**\n",
    "\n",
    "Modificar el código del cálculo de promedio para que permita ingresar todas las calificaciones en una sola línea, separadas por comas, y luego calcular el promedio automáticamente.\n",
    "\n",
    "**¿Qué estructuras de control y operadores usaste?**\n",
    "\n",
    "- Función `input()` para ingresar los datos del usuario.\n",
    "- Métodos de cadenas como `split()` y comprensión de listas para convertir los datos a enteros.\n",
    "- Funciones `sum()` y `len()` para calcular el promedio.\n",
    "\n",
    "**¿Qué dificultades encontraste y cómo las resolviste?**\n",
    "\n",
    "El principal reto fue transformar correctamente la entrada de texto en una lista de números enteros. Lo resolví utilizando `split(',')` para separar por comas y luego aplicando `int()` en una comprensión de lista para convertir cada valor.\n"
   ]
  },
  {
   "cell_type": "code",
   "execution_count": null,
   "id": "70ba406f",
   "metadata": {},
   "outputs": [],
   "source": [
    "# Ingresar calificaciones en una sola línea separadas por comas\n",
    "entrada = input(\"Ingresá las calificaciones separadas por comas: \")\n",
    "\n",
    "# Convertir la entrada en una lista de enteros\n",
    "calificaciones = [int(nota.strip()) for nota in entrada.split(',')]\n",
    "\n",
    "# Calcular el promedio\n",
    "promedio = sum(calificaciones) / len(calificaciones)\n",
    "\n",
    "# Mostrar el resultado\n",
    "print(f\"El promedio de las calificaciones es: {promedio:.2f}\")\n"
   ]
  }
 ],
 "metadata": {},
 "nbformat": 4,
 "nbformat_minor": 5
}
