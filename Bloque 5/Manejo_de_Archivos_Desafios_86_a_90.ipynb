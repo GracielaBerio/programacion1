{
 "cells": [
  {
   "cell_type": "markdown",
   "id": "47835d6a",
   "metadata": {},
   "source": [
    "# 🧠 Manejo de Archivos – Desafíos 86 a 90\n",
    "Este cuaderno contiene la resolución de los desafíos propuestos sobre manejo de archivos en Python."
   ]
  },
  {
   "cell_type": "markdown",
   "id": "98c1409c",
   "metadata": {},
   "source": [
    "## 🔹 Desafío 86: Crear un archivo de préstamos de libros"
   ]
  },
  {
   "cell_type": "code",
   "execution_count": null,
   "id": "b2c78b39",
   "metadata": {},
   "outputs": [],
   "source": [
    "\n",
    "# Desafío 86: Crear un archivo de préstamos de libros\n",
    "\n",
    "def agregar_prestamo():\n",
    "    with open(\"prestamos.txt\", \"a\", encoding=\"utf-8\") as archivo:\n",
    "        libro = input(\"Nombre del libro: \")\n",
    "        prestatario = input(\"Nombre del prestatario: \")\n",
    "        fecha = input(\"Fecha del préstamo (dd/mm/aaaa): \")\n",
    "        archivo.write(f\"{libro};{prestatario};{fecha}\\n\")\n",
    "    print(\"\\n✅ Préstamo agregado correctamente.\\n\")\n",
    "\n",
    "# Ejemplo:\n",
    "# agregar_prestamo()\n"
   ]
  },
  {
   "cell_type": "markdown",
   "id": "669d2bf6",
   "metadata": {},
   "source": [
    "## 🔹 Desafío 87: Buscar un libro por autor en un archivo de texto"
   ]
  },
  {
   "cell_type": "code",
   "execution_count": null,
   "id": "ba2e676b",
   "metadata": {},
   "outputs": [],
   "source": [
    "\n",
    "# Desafío 87: Buscar libros por autor\n",
    "\n",
    "def buscar_libros_por_autor(nombre_autor):\n",
    "    try:\n",
    "        with open(\"libros.txt\", \"r\", encoding=\"utf-8\") as archivo:\n",
    "            encontrados = []\n",
    "            for linea in archivo:\n",
    "                libro, autor = linea.strip().split(\";\")\n",
    "                if autor.lower() == nombre_autor.lower():\n",
    "                    encontrados.append(libro)\n",
    "\n",
    "        if encontrados:\n",
    "            print(f\"\\n📚 Libros de {nombre_autor}:\")\n",
    "            for libro in encontrados:\n",
    "                print(f\" - {libro}\")\n",
    "        else:\n",
    "            print(f\"\\n⚠️ No se encontraron libros de {nombre_autor}.\\n\")\n",
    "    except FileNotFoundError:\n",
    "        print(\"❌ No se encontró el archivo libros.txt.\")\n",
    "\n",
    "# Ejemplo:\n",
    "# buscar_libros_por_autor(\"Gabriel García Márquez\")\n"
   ]
  },
  {
   "cell_type": "markdown",
   "id": "845eb956",
   "metadata": {},
   "source": [
    "## 🔹 Desafío 88: Actualizar la cantidad de libros disponibles en un archivo CSV"
   ]
  },
  {
   "cell_type": "code",
   "execution_count": null,
   "id": "834fdd8d",
   "metadata": {},
   "outputs": [],
   "source": [
    "\n",
    "import csv\n",
    "\n",
    "# Desafío 88: Actualizar cantidad de libros en inventario.csv\n",
    "\n",
    "def actualizar_cantidad(libro_a_modificar, nueva_cantidad):\n",
    "    try:\n",
    "        filas = []\n",
    "        with open(\"inventario.csv\", \"r\", encoding=\"utf-8\") as archivo:\n",
    "            lector = csv.reader(archivo)\n",
    "            encabezado = next(lector)\n",
    "            for fila in lector:\n",
    "                if fila[0].lower() == libro_a_modificar.lower():\n",
    "                    fila[1] = str(nueva_cantidad)\n",
    "                filas.append(fila)\n",
    "\n",
    "        with open(\"inventario.csv\", \"w\", encoding=\"utf-8\", newline=\"\") as archivo:\n",
    "            escritor = csv.writer(archivo)\n",
    "            escritor.writerow(encabezado)\n",
    "            escritor.writerows(filas)\n",
    "\n",
    "        print(f\"\\n✅ Cantidad de '{libro_a_modificar}' actualizada a {nueva_cantidad}.\\n\")\n",
    "\n",
    "    except FileNotFoundError:\n",
    "        print(\"❌ No se encontró el archivo inventario.csv.\")\n",
    "\n",
    "# Ejemplo:\n",
    "# actualizar_cantidad(\"Rayuela\", 10)\n"
   ]
  },
  {
   "cell_type": "markdown",
   "id": "e52b9051",
   "metadata": {},
   "source": [
    "## 🔹 Desafío 89: Eliminar registros de un archivo de préstamos"
   ]
  },
  {
   "cell_type": "code",
   "execution_count": null,
   "id": "b99ff9b5",
   "metadata": {},
   "outputs": [],
   "source": [
    "\n",
    "# Desafío 89: Eliminar registros de préstamos\n",
    "\n",
    "def eliminar_prestamo():\n",
    "    try:\n",
    "        with open(\"prestamos.txt\", \"r\", encoding=\"utf-8\") as archivo:\n",
    "            prestamos = archivo.readlines()\n",
    "\n",
    "        if not prestamos:\n",
    "            print(\"⚠️ No hay préstamos registrados.\")\n",
    "            return\n",
    "\n",
    "        print(\"\\n📋 Préstamos actuales:\")\n",
    "        for i, prestamo in enumerate(prestamos, start=1):\n",
    "            print(f\"{i}. {prestamo.strip()}\")\n",
    "\n",
    "        num = int(input(\"\\nIngrese el número del préstamo a eliminar: \"))\n",
    "        if 1 <= num <= len(prestamos):\n",
    "            eliminado = prestamos.pop(num - 1)\n",
    "            with open(\"prestamos.txt\", \"w\", encoding=\"utf-8\") as archivo:\n",
    "                archivo.writelines(prestamos)\n",
    "            print(f\"\\n🗑️ Registro eliminado: {eliminado.strip()}\")\n",
    "        else:\n",
    "            print(\"⚠️ Número inválido.\")\n",
    "    except FileNotFoundError:\n",
    "        print(\"❌ No se encontró el archivo prestamos.txt.\")\n",
    "\n",
    "# Ejemplo:\n",
    "# eliminar_prestamo()\n"
   ]
  },
  {
   "cell_type": "markdown",
   "id": "aec21435",
   "metadata": {},
   "source": [
    "## 🔹 Desafío 90: Contar las palabras más comunes en un archivo de texto"
   ]
  },
  {
   "cell_type": "code",
   "execution_count": null,
   "id": "5f019f5e",
   "metadata": {},
   "outputs": [],
   "source": [
    "\n",
    "from collections import Counter\n",
    "import re\n",
    "\n",
    "# Desafío 90: Contar palabras más comunes\n",
    "\n",
    "def palabras_mas_comunes(nombre_archivo):\n",
    "    try:\n",
    "        with open(nombre_archivo, \"r\", encoding=\"utf-8\") as archivo:\n",
    "            texto = archivo.read().lower()\n",
    "            palabras = re.findall(r'\\b[a-záéíóúüñ]+\\b', texto)\n",
    "            contador = Counter(palabras)\n",
    "            print(\"\\n🔝 Las 5 palabras más comunes:\")\n",
    "            for palabra, cantidad in contador.most_common(5):\n",
    "                print(f\"{palabra}: {cantidad} veces\")\n",
    "    except FileNotFoundError:\n",
    "        print(f\"❌ No se encontró el archivo {nombre_archivo}.\")\n",
    "\n",
    "# Ejemplo:\n",
    "# palabras_mas_comunes(\"libros.txt\")\n"
   ]
  }
 ],
 "metadata": {},
 "nbformat": 4,
 "nbformat_minor": 5
}