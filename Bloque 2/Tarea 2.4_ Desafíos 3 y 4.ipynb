{
  "metadata": {
    "kernelspec": {
      "name": "python",
      "display_name": "Python (Pyodide)",
      "language": "python"
    },
    "language_info": {
      "codemirror_mode": {
        "name": "python",
        "version": 3
      },
      "file_extension": ".py",
      "mimetype": "text/x-python",
      "name": "python",
      "nbconvert_exporter": "python",
      "pygments_lexer": "ipython3",
      "version": "3.8"
    }
  },
  "nbformat_minor": 5,
  "nbformat": 4,
  "cells": [
    {
      "id": "a058cc74-3aff-49a2-b24c-69930a8bc47f",
      "cell_type": "markdown",
      "source": "# Conversión de Temperaturas\n\n## ¿Qué pide el enunciado?\nConvertir una temperatura dada en grados Celsius a dos nuevas unidades: **Fahrenheit** y **Kelvin**.\n---\n## ¿Qué tipo de datos y operadores utilicé?\n\n- **Tipo de dato**: `float` (números decimales).\n\n- **Operadores utilizados**:\n  - Multiplicación `*`\n  - División `/`\n  - Suma `+`\n\n---\n## ¿Qué validaciones implementé o podría haber implementado?\n\n- Validar que el usuario ingrese un **número** y no un **texto**.\n- Validar que la temperatura no sea **menor al cero absoluto** (-273.15 °C).\n---\n",
      "metadata": {
        "tags": [],
        "editable": true,
        "slideshow": {
          "slide_type": ""
        }
      }
    },
    {
      "id": "f3b18559-ab38-45e3-9ec5-52c905cf4f2d",
      "cell_type": "code",
      "source": "# Convertidor de temperaturas\n\n# Solicitar al usuario que ingrese la temperatura en grados Celsius\ncelsius = float(input(\"Ingrese la temperatura en grados Celsius: \"))\n\n# Realizar las conversiones\nfahrenheit = (celsius * 9/5) + 32\nkelvin = celsius + 273.15\n\n# Mostrar los resultados\nprint(f\"\\nLa temperatura en Fahrenheit es: {fahrenheit:.2f} °F\")\nprint(f\"La temperatura en Kelvin es: {kelvin:.2f} K\")\n",
      "metadata": {
        "trusted": true
      },
      "outputs": [],
      "execution_count": null
    },
    {
      "id": "65c52247-fb8b-480d-b561-79cf97a29945",
      "cell_type": "markdown",
      "source": "# Desafío 4: Verificar múltiplos de varios números\n\n## ¿Qué pide el enunciado?\n\nSolicitar un número al usuario y verificar si es múltiplo de **2, 3, 5, 7, 9, 10 y 11**, mostrando un mensaje por cada caso.\n\n---\n\n## ¿Qué tipo de datos y operadores utilicé?\n\n- **Tipo de dato**: `int` (número entero).\n\n- **Operador utilizado**:\n  - Módulo `%` para saber si un número es múltiplo de otro.\n\n---\n\n## ¿Qué validaciones implementé o podría haber implementado?\n\n- Verificar que el ingreso sea un **número entero válido**.\n- Podríamos evitar el ingreso de **números negativos** si el programa así lo requiere.\n\n---\n",
      "metadata": {}
    },
    {
      "id": "07c63297-46a7-4820-8aea-577c3464bdf0",
      "cell_type": "code",
      "source": "# Verificar múltiplos\n\n# Solicitar al usuario que ingrese un número\nnumero = int(input(\"\\nIngrese un número entero: \"))\n\n# Lista de números a verificar\nnumeros_a_verificar = [2, 3, 5, 7, 9, 10, 11]\n\n# Verificar y mostrar los resultados\nprint()\nfor divisor in numeros_a_verificar:\n    if numero % divisor == 0:\n        print(f\"El número {numero} es múltiplo de {divisor}.\")\n    else:\n        print(f\"El número {numero} NO es múltiplo de {divisor}.\")\n",
      "metadata": {
        "trusted": true
      },
      "outputs": [],
      "execution_count": null
    },
    {
      "id": "9a07715f-bcd7-4745-b999-5fe49f982381",
      "cell_type": "markdown",
      "source": "## 📚 Webgrafía\n\n- [Documentación oficial de Python](https://docs.python.org/es/3/)  \n  Guía completa del lenguaje Python, incluyendo funciones como `input()`, `float()`, operadores, tipos de datos, etc.\n\n- [W3Schools - Python Input and Output](https://www.w3schools.com/python/python_user_input.asp)  \n  Explicación sencilla sobre cómo usar `input()` y convertir datos en Python.",
      "metadata": {}
    },
    {
      "id": "deea7051-4fcc-4889-bed0-20dd0f5444c1",
      "cell_type": "markdown",
      "source": "## Enlace a repositorio de Github\n\n- https://github.com/GracielaBerio/programacion1",
      "metadata": {}
    },
    {
      "id": "9c0ca3e3-2366-423b-8cd2-8245a37645b0",
      "cell_type": "code",
      "source": "",
      "metadata": {
        "trusted": true
      },
      "outputs": [],
      "execution_count": null
    }
  ]
}
