{
  "metadata": {
    "kernelspec": {
      "name": "python",
      "display_name": "Python (Pyodide)",
      "language": "python"
    },
    "language_info": {
      "codemirror_mode": {
        "name": "ipython",
        "version": 3
      },
      "file_extension": ".py",
      "mimetype": "text/x-python",
      "name": "python",
      "nbconvert_exporter": "python",
      "pygments_lexer": "ipython3",
      "version": "3.11.1"
    },
    "colab": {
      "include_colab_link": true,
      "provenance": [],
      "toc_visible": true
    }
  },
  "nbformat_minor": 4,
  "nbformat": 4,
  "cells": [
    {
      "cell_type": "markdown",
      "source": "# Tarea 3.7: Arreglos\n** Graciela Berio",
      "metadata": {}
    },
    {
      "cell_type": "markdown",
      "source": "# Introducción",
      "metadata": {
        "id": "2UOj9D8HwgLm"
      }
    },
    {
      "cell_type": "markdown",
      "source": "¡Hola, volvimos! Seguro que están familiarizados con los tipos de datos básicos que hemos trabajado en capítulos anteriores, como los números y las cadenas. ¿Pero qué pasa si quieres almacenar un montón de números o cadenas? ¿Vas a declarar una variable para cada uno de ellos? ¡Por supuesto que no! Ahí es donde entran los arreglos. ¿Y qué son los arreglos? Bueno, estoy aquí para contarte todo sobre ellos.\n\nImagínate que eres el dueño de una tienda y tienes varios productos. Necesitas una forma de llevar un registro de los productos que tienes en stock. Podrías tener una variable para cada producto, pero eso rápidamente se vuelve inmanejable. En lugar de eso, puedes usar un arreglo para guardar los nombres de los productos en un solo lugar. ¡Vamos a explorar cómo hacerlo!",
      "metadata": {
        "id": "mGH096y4wjvI"
      }
    },
    {
      "cell_type": "markdown",
      "source": "# ¿Qué es un arreglo unidimensional?",
      "metadata": {
        "id": "3Qk-rJUixMdV"
      }
    },
    {
      "cell_type": "markdown",
      "source": "En términos muy sencillos, un arreglo es una colección de elementos que son *del mismo tipo de datos*. Piensa en él como una estantería donde cada estante tiene un valor que tú decides.",
      "metadata": {
        "id": "kOHq30duxPwE"
      }
    },
    {
      "cell_type": "code",
      "source": "productos = [\"manzanas\", \"bananas\", \"cerezas\", \"duraznos\", \"peras\"]",
      "metadata": {
        "id": "8XWZdXXFxUBb"
      },
      "outputs": [],
      "execution_count": null
    },
    {
      "cell_type": "markdown",
      "source": "Aquí, productos es un arreglo (en Python, lo llamamos \"lista\") que contiene varias cadenas.\n\n*Nota:*\n*Los clásicos arrays descritos en lenguajes como C, Java, entre otros no existen en Python como tal. Una forma elegante de superar esta limitación es utilizar las llamadas listas in Python, que tienen una función similar. A diferencia de los contenedores de Java, las listas de Python pueden contener diferentes tipos de valores.*",
      "metadata": {
        "id": "nvfbOYiwxV0u"
      }
    },
    {
      "cell_type": "markdown",
      "source": "# Acceder a un elemento específico",
      "metadata": {
        "id": "-cK4hNarzx0W"
      }
    },
    {
      "cell_type": "markdown",
      "source": "Para acceder a los elementos de un arreglo, usamos su índice, que es la posición del elemento en el arreglo. Recuerda que en Python, los índices comienzan en 0.",
      "metadata": {
        "id": "uHPO_v3fzzrt"
      }
    },
    {
      "cell_type": "code",
      "source": "primer_producto = productos[0]\nprint(primer_producto)\n",
      "metadata": {
        "colab": {
          "base_uri": "https://localhost:8080/"
        },
        "id": "9VevZVqPz4w9",
        "outputId": "82b19312-8ad7-4717-8868-32271c901ca6"
      },
      "outputs": [],
      "execution_count": null
    },
    {
      "cell_type": "markdown",
      "source": "# Añadir elementos a un array en Python",
      "metadata": {
        "id": "osYfhmw7z52s"
      }
    },
    {
      "cell_type": "markdown",
      "source": "En Python, puedes añadir elementos a una lista usando el método append(). Este método añade el elemento al final de la lista.",
      "metadata": {
        "id": "GNZE2IMez9NA"
      }
    },
    {
      "cell_type": "code",
      "source": "productos.append(\"kiwis\")\nprint(productos)",
      "metadata": {
        "id": "SaW_mkUuz_-u"
      },
      "outputs": [],
      "execution_count": null
    },
    {
      "cell_type": "markdown",
      "source": "# Eliminar elementos del array con pop ( ) o remove ( )",
      "metadata": {
        "id": "DKbrIptb0BzR"
      }
    },
    {
      "cell_type": "markdown",
      "source": "Para eliminar elementos de una lista, puedes usar el método pop() o remove(). pop() elimina el elemento en la posición especificada, mientras que remove() elimina el primer elemento con el valor especificado.",
      "metadata": {
        "id": "35tzlfOe0Io4"
      }
    },
    {
      "cell_type": "code",
      "source": "productos.pop(1)  # Elimina el elemento en el índice 1\nproductos.remove(\"cerezas\")  # Elimina la primera aparición de \"cerezas\"\nprint(productos)",
      "metadata": {
        "id": "U-f-3-hT0MMn"
      },
      "outputs": [],
      "execution_count": null
    },
    {
      "cell_type": "markdown",
      "source": "# Lista de diferentes métodos para arrays en Python",
      "metadata": {
        "id": "rtbKFNpR0RnE"
      }
    },
    {
      "cell_type": "markdown",
      "source": "Python ofrece muchos métodos útiles para trabajar con listas. Aquí hay una tabla con algunos de los más comunes:",
      "metadata": {
        "id": "sS7prWFX0VLQ"
      }
    },
    {
      "cell_type": "markdown",
      "source": "|Método|Descripción|\n|---|---|\n|`append()`|Añade un elemento al final de la lista.|\n|`clear()`|Este método elimina todos los elementos de la lista.|\n|`copy()`|`copy()` produce una copia de toda la lista.|\n|`count()`|Este método da como resultado el número exacto de elementos con un valor determinado.|\n|`extend()`|`extend()` añade todos los elementos de una lista al final de una lista en Python.|\n|`index()`|Muestra el número de índice del primer elemento con un valor determinado.|\n|`insert()`|Añade un elemento en una posición determinada.|\n|`len()`|Con `len()` se determina la longitud de un array en Python.|\n|`pop()`|Con `pop()` se elimina un elemento en una posición determinada.|\n|`remove()`|`remove()` elimina el primer elemento con un valor determinado.|\n|`reverse()`|Utiliza este método para invertir el orden de los elementos de tu lista en Python.|\n|`sort()`|Con `sort()` puedes ordenar tu lista.|\n",
      "metadata": {
        "id": "ssz5zud50WJw"
      }
    },
    {
      "cell_type": "markdown",
      "source": "# Desafío 1: Gestión del stock de la verdulería\n\n¡Bienvenido al desafío de la verdulería! Has sido nombrado el nuevo gerente de una tienda de frutas, verduras y hortalizas. Tu tarea será manejar el stock de la tienda utilizando un arreglo. Aquí hay una serie de tareas que tendrás que completar.\n\n## Inventario inicial\n\nAquí está el inventario inicial de la tienda:",
      "metadata": {
        "id": "wbINup_O9p5F"
      }
    },
    {
      "cell_type": "code",
      "source": "inventario = [\"manzanas\", \"bananas\", \"zanahorias\", \"espinacas\", \"brocoli\", \"cebolla\", \"kiwis\"]",
      "metadata": {
        "id": "0ciI1vKd9yYd"
      },
      "outputs": [],
      "execution_count": null
    },
    {
      "cell_type": "markdown",
      "source": " **Pregunta 1: ¿Cuántos tipos de productos hay en el inventario inicial?**\n\n **Pregunta 2: ¿Qué producto está en la tercera posición del inventario?**",
      "metadata": {
        "id": "2PG6cpY7AbZN"
      }
    },
    {
      "cell_type": "markdown",
      "source": "## Gestión del inventario\nUn cliente viene y compra todas las bananas.\n\n**Pregunta 3: ¿Cómo actualizarías el inventario después de la venta?**\n\nAhora recibes un envío de nuevos productos: \"frutillas\", \"apio\" y \"papas\".\n\n**Pregunta 4: ¿Cómo añadirías estos productos al inventario?**\n\n**Pregunta 5: ¿Cómo verificas si las \"papas\" están ahora en el inventario?**\n\nUn agricultor viene con una rara fruta llamada \"dragonfruit\", pero sólo tienes espacio para 7 productos en tu tienda.\n\n**Pregunta 6: ¿Cómo decidirías qué producto sacar para hacer espacio para el \"dragonfruit\"?**\n",
      "metadata": {
        "id": "JT8fGJI3ARwG"
      }
    },
    {
      "cell_type": "markdown",
      "source": "## Ordenando el inventario\nDecides que sería más fácil gestionar el inventario si estuviera ordenado alfabéticamente.\n\n**Pregunta 7: ¿Cómo ordenarías el inventario?**\n\nUn nuevo empleado viene y necesita una copia del inventario para poder reponer los estantes.\n\n**Pregunta 8: ¿Cómo proporcionarías una copia del inventario al nuevo empleado, asegurándote de que si el empleado hace cambios en su copia, el inventario original no se vea afectado?**\n\nEsperamos que disfrutes de este desafío y que te ayude a entender mejor cómo trabajar con arreglos en Python. ¡Buena suerte, gerente de la tienda!",
      "metadata": {
        "id": "tJUXxW1D94Qb"
      }
    },
    {
      "cell_type": "markdown",
      "source": "# Desafío 2: Ordenar el inventario de libros\n\nComo encargado de la biblioteca, necesitas organizar los libros de acuerdo con sus códigos de identificación en orden decreciente, sin modificar la lista original. Se recomienda usar la función sorted(). ¿Por qué es importante no modificar la lista original? ¿Por qué no puedo usar el método sort sobre la lista original?\n\n# Desafío 3: Caracteres ASCII\nEres un desarrollador creando una herramienta educativa que muestra los caracteres ASCII correspondientes a una lista de números. Se recomienda usar la función chr() para convertir los números en caracteres.\n\n# Desafío 4: Control de notas de estudiantes\nComo profesor, necesitas manejar las notas de tus estudiantes. Permite ingresar todas las notas de los estudiantes y realiza varias operaciones con esos datos.\n\n**Pregunta 1: Calcula el promedio de las notas de la clase. ¿Cómo lo harías?**\n\n**Pregunta 2: Encuentra la nota más baja y la más alta. ¿Cómo lo harías?**\n\n**Pregunta 3: Identifica la nota que más se repite. ¿Cómo lo harías?**\n\n_Nota:_ La función Counter es útil porque simplifica el conteo de elementos en una lista, permitiendo identificar rápidamente la frecuencia de cada nota.\n\n**Pregunta 4 (Plus): Realiza un gráfico de barras con las notas. ¿Cómo lo harías?**\n\n_Nota:_ La biblioteca matplotlib.pyplot es útil porque proporciona funciones fáciles de usar para crear visualizaciones de datos, como gráficos de barras, que pueden ayudar a visualizar la distribución de las notas de manera clara y comprensible.\n",
      "metadata": {}
    },
    {
      "cell_type": "code",
      "source": "\nnotas = []\n\nprint(\"Ingresá las notas de los estudiantes (escribí 'fin' para terminar):\")\nwhile True:\n    entrada = input(\"Nota: \")\n    if entrada.lower() == \"fin\":\n        break\n    try:\n        nota = int(entrada)\n        if 1 <= nota <= 10:\n            notas.append(nota)\n        else:\n            print(\"La nota debe estar entre 1 y 10.\")\n    except ValueError:\n        print(\"Entrada inválida. Ingresar un número o la palabra'fin'.\")\n\nif notas:\n# --Pregunta 1: Calcular el promedio de la clase\n    promedio = sum(notas) / len(notas)\n    print(f\"\\nPromedio de la clase: {promedio:.2f}\")\n\n# --Pregunta 2: Encontrar la nota más baja y la más alta\n    nota_minima = min(notas)\n    nota_maxima = max(notas)\n    print(f\"Nota más baja: {nota_minima}\")\n    print(f\"Nota más alta: {nota_maxima}\")\nelse:\n    print(\"Debe ingresar las notas.\")",
      "metadata": {
        "trusted": true
      },
      "outputs": [],
      "execution_count": null
    },
    {
      "cell_type": "code",
      "source": "# Desafío 2: Ordenar el inventario de libros \n# Lista original de libros con códigos de identificación\nlibros = [\n    {\"codigo\": 103, \"titulo\": \"Algoritmos y estructuras\"},\n    {\"codigo\": 101, \"titulo\": \"Python para todos\"},\n    {\"codigo\": 104, \"titulo\": \"Introducción a ChatGPT\"},\n    {\"codigo\": 102, \"titulo\": \"Bases de datos\"},\n    {\"codigo\": 105, \"titulo\": \"Aprende C++\"}\n]\n\n# Ordenar por código en orden decreciente sin modificar la lista original\nlibros_ordenados = sorted(libros, key=lambda libro: libro[\"codigo\"], reverse=True)\n\n# Mostrar resultados\nprint(\"Inventario original:\")\nfor libro in libros:\n    print(f\"{libro['codigo']} - {libro['titulo']}\")\n\nprint(\"\\nInventario ordenado (por código descendente):\")\nfor libro in libros_ordenados:\n    print(f\"{libro['codigo']} - {libro['titulo']}\")\n",
      "metadata": {
        "trusted": true
      },
      "outputs": [],
      "execution_count": null
    },
    {
      "cell_type": "code",
      "source": "# ¿Por qué es importante no modificar la lista original? \nPorque si la lista original es referenciada en otra parte del código se pueden obtener resultados inesperados, además de que se pueden comparar la lista original con la modificada para ver su cambio. \n\n#¿Por qué no puedo usar el método sort sobre la lista original?\nSi se utiliza el método sort se pierde lareferencia de la lista original.\n",
      "metadata": {
        "trusted": true
      },
      "outputs": [],
      "execution_count": null
    },
    {
      "cell_type": "markdown",
      "source": "# Problema 1: Análisis de ventas mensuales usando el módulo array\nEres el gerente de una tienda de ropa y necesitas analizar las ventas mensuales de un producto específico durante el último año. Usarás el módulo array para almacenar y manipular los datos de ventas de cada mes. El objetivo es calcular la venta total anual, el promedio de ventas mensuales, y encontrar los meses con la venta más baja y más alta.\n\n## Datos Iniciales\nLas ventas mensuales del producto específico son las siguientes (en unidades):",
      "metadata": {}
    },
    {
      "cell_type": "code",
      "source": "",
      "metadata": {
        "trusted": true
      },
      "outputs": [],
      "execution_count": null
    },
    {
      "cell_type": "code",
      "source": "import array\n\nventas_mensuales = array.array('i', [120, 135, 150, 145, 160, 155, 130, 140, 125, 170, 160, 180])",
      "metadata": {},
      "outputs": [],
      "execution_count": null
    },
    {
      "cell_type": "markdown",
      "source": "## Tareas:\n**Calcula la venta total anual.**",
      "metadata": {}
    },
    {
      "cell_type": "code",
      "source": "total_anual = sum(ventas_mensuales)\nprint(f\"Venta total anual: {total_anual} unidades\")",
      "metadata": {},
      "outputs": [],
      "execution_count": null
    },
    {
      "cell_type": "markdown",
      "source": "**Calcula el promedio de ventas mensuales.**",
      "metadata": {}
    },
    {
      "cell_type": "code",
      "source": "promedio_mensual = total_anual / len(ventas_mensuales)\nprint(f\"Promedio de ventas mensuales: {promedio_mensual:.2f} unidades\")",
      "metadata": {},
      "outputs": [],
      "execution_count": null
    },
    {
      "cell_type": "markdown",
      "source": "**Encuentra el mes con la venta más baja y más alta.**",
      "metadata": {}
    },
    {
      "cell_type": "code",
      "source": "mes_baja = ventas_mensuales.index(min(ventas_mensuales)) + 1\nmes_alta = ventas_mensuales.index(max(ventas_mensuales)) + 1\nprint(f\"Mes con la venta más baja: {mes_baja} (Venta: {min(ventas_mensuales)} unidades)\")\nprint(f\"Mes con la venta más alta: {mes_alta} (Venta: {max(ventas_mensuales)} unidades)\")",
      "metadata": {},
      "outputs": [],
      "execution_count": null
    },
    {
      "cell_type": "markdown",
      "source": "# Problema 2: Análisis de temperaturas diarias usando NumPy\nComo meteorólogo, necesitas analizar las temperaturas diarias registradas en tu ciudad durante el último mes. Usarás la librería NumPy para trabajar eficientemente con los datos de temperaturas. El objetivo es calcular la temperatura media, la temperatura máxima y mínima, y visualizar las temperaturas en un gráfico de línea.\n\n## Datos Iniciales\nLas temperaturas diarias registradas en el último mes (30 días) son las siguientes:",
      "metadata": {}
    },
    {
      "cell_type": "code",
      "source": "import numpy as np\n\ntemperaturas_diarias = np.array([22.5, 21.3, 23.1, 25.0, 24.5, 22.1, 23.7, 24.8, 25.3, 26.1, \n                                 23.4, 24.0, 22.9, 21.5, 23.0, 24.3, 25.0, 24.7, 23.1, 22.4, \n                                 23.5, 24.1, 25.4, 26.0, 24.8, 23.9, 22.7, 23.3, 24.5, 25.1])",
      "metadata": {},
      "outputs": [],
      "execution_count": null
    },
    {
      "cell_type": "markdown",
      "source": "## Tareas:\n**Calcula la temperatura media del mes.**",
      "metadata": {}
    },
    {
      "cell_type": "code",
      "source": "temperatura_media = np.mean(temperaturas_diarias)\nprint(f\"Temperatura media del mes: {temperatura_media:.2f}°C\")",
      "metadata": {},
      "outputs": [],
      "execution_count": null
    },
    {
      "cell_type": "markdown",
      "source": "**Encuentra la temperatura máxima y mínima del mes.**",
      "metadata": {}
    },
    {
      "cell_type": "code",
      "source": "temperatura_maxima = np.max(temperaturas_diarias)\ntemperatura_minima = np.min(temperaturas_diarias)\nprint(f\"Temperatura máxima del mes: {temperatura_maxima}°C\")\nprint(f\"Temperatura mínima del mes: {temperatura_minima}°C\")",
      "metadata": {},
      "outputs": [],
      "execution_count": null
    },
    {
      "cell_type": "markdown",
      "source": "**Genera un gráfico de línea de las temperaturas diarias.**",
      "metadata": {}
    },
    {
      "cell_type": "code",
      "source": "import matplotlib.pyplot as plt\n\ndias = np.arange(1, 31)\nplt.plot(dias, temperaturas_diarias, marker='o')\nplt.xlabel('Día')\nplt.ylabel('Temperatura (°C)')\nplt.title('Temperaturas Diarias del Último Mes')\nplt.grid(True)\nplt.show()",
      "metadata": {},
      "outputs": [],
      "execution_count": null
    },
    {
      "cell_type": "code",
      "source": "# Descripción personal:\n\n** Destaque algún reto que enfrentaste\n    \n** Mencione brevemente la solución aplicada\n    \n** Indique líneas relevantes de código o referencias si lo creés necesario\n    Sort y sortd",
      "metadata": {
        "trusted": true
      },
      "outputs": [],
      "execution_count": null
    },
    {
      "cell_type": "code",
      "source": "# Repositorio en Github\n**",
      "metadata": {
        "trusted": true
      },
      "outputs": [],
      "execution_count": null
    },
    {
      "cell_type": "code",
      "source": "# WebGrafía\n** *Documentación oficial de Python Guía completa del lenguaje Python, incluyendo funciones\ncomo input(), int(), sortd(),entre otras, operadores, tipos de datos, etc.\n\n\n",
      "metadata": {
        "trusted": true
      },
      "outputs": [],
      "execution_count": null
    }
  ]
}